{
 "cells": [
  {
   "cell_type": "code",
   "execution_count": null,
   "metadata": {
    "collapsed": true
   },
   "outputs": [],
   "source": [
    "# You can use seperate cell to see the result\n",
    "\n",
    "import pandas as pd\n",
    "import numpy as np\n",
    "from matplotlib import pyplot as plt\n",
    "from scipy.cluster.hierarchy import dendrogram, linkage\n",
    "%matplotlib inline\n",
    "\n",
    "# Loading and reading csv file\n",
    "states = pd.read_csv('~/Desktop/ClusterData.csv')\n",
    "list(states.columns.values)\n"
   ]
  },
  {
   "cell_type": "code",
   "execution_count": null,
   "metadata": {
    "collapsed": true
   },
   "outputs": [],
   "source": [
    "# Saving numerical data only\n",
    "st = states[states.columns[2:]]\n",
    "st.index = [states.ix[:,1]]\n",
    "\n",
    "# Clustering and creating linkage matrix\n",
    "Z = linkage(st, 'ward')\n",
    "\n",
    "# Ploting dandrogram of clusters\n",
    "plt.figure(figsize = (25, 10))\n",
    "plt.title('Cluster with All Searches and Personality')\n",
    "plt.ylabel('distance')\n",
    "dendrogram(\n",
    "    Z,\n",
    "    labels = st.index,\n",
    "    leaf_rotation = 0.,\n",
    "    leaf_font_size = 18.,\n",
    ")\n",
    "plt.show()"
   ]
  },
  {
   "cell_type": "code",
   "execution_count": null,
   "metadata": {
    "collapsed": true
   },
   "outputs": [],
   "source": []
  }
 ],
 "metadata": {
  "kernelspec": {
   "display_name": "Python 3",
   "language": "python",
   "name": "python3"
  },
  "language_info": {
   "codemirror_mode": {
    "name": "ipython",
    "version": 3
   },
   "file_extension": ".py",
   "mimetype": "text/x-python",
   "name": "python",
   "nbconvert_exporter": "python",
   "pygments_lexer": "ipython3",
   "version": "3.6.1"
  }
 },
 "nbformat": 4,
 "nbformat_minor": 2
}
