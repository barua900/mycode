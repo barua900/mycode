{
 "cells": [
  {
   "cell_type": "code",
   "execution_count": null,
   "metadata": {
    "collapsed": true
   },
   "outputs": [],
   "source": [
    "# You know what this is\n",
    "\n",
    "import pandas as pd\n",
    "import numpy as np\n",
    "import pylab as pl\n",
    "from sklearn.neighbors import KNeighborsClassifier\n",
    "\n",
    "%matplotlib inline\n",
    "\n",
    "# Loading and reading csv & list columns\n",
    "ccdefault = pd.read_csv('~/Desktop/ccdefault.csv')\n",
    "list(ccdefault.columns.values)\n",
    "\n"
   ]
  },
  {
   "cell_type": "code",
   "execution_count": null,
   "metadata": {
    "collapsed": true
   },
   "outputs": [],
   "source": [
    "# Creating new dataset without ID variable\n",
    "ccd = ccdefault[ccdefault.columns[1:]]\n",
    "list(ccd.columns.values)\n"
   ]
  },
  {
   "cell_type": "code",
   "execution_count": null,
   "metadata": {
    "collapsed": true
   },
   "outputs": [],
   "source": [
    "# Split data\n",
    "\n",
    "test_idx = np.random.uniform(0, 1, len(ccd)) <= .333\n",
    "train = ccd[test_idx == True]\n",
    "test = ccd[test_idx == False]\n",
    "\n",
    "train.head()\n"
   ]
  },
  {
   "cell_type": "code",
   "execution_count": null,
   "metadata": {
    "collapsed": true
   },
   "outputs": [],
   "source": [
    "# ****** Classification ******\n",
    "\n",
    "# Specifying features used to predict\n",
    "\n",
    "features = [ 'LIMIT_BAL', 'SEX', 'EDUCATION', 'MARRIAGE', 'AGE', \n",
    "            'PAY_0', 'PAY_2', 'PAY_3', 'PAY_4', 'PAY_5', 'PAY_6', \n",
    "            'BILL_AMT1', 'BILL_AMT2', 'BILL_AMT3', 'BILL_AMT4', \n",
    "            'BILL_AMT5', 'BILL_AMT6', 'PAY_AMT1', 'PAY_AMT2', \n",
    "            'PAY_AMT3', 'PAY_AMT4', 'PAY_AMT5', 'PAY_AMT6', 'DEFAULT' ]\n"
   ]
  },
  {
   "cell_type": "code",
   "execution_count": null,
   "metadata": {
    "collapsed": true
   },
   "outputs": [],
   "source": [
    "# Choosing n and conducting knn classification\n",
    "n = 5  # Neighbors\n",
    "\n",
    "results = []\n",
    "\n",
    "clf = KNeighborsClassifier(n_neighbors = n)\n",
    "clf.fit(train[features], train['DEFAULT'])\n",
    "preds = clf.predict(test[features])\n",
    "accuracy = np.where(preds == test['DEFAULT'], 1, 0).sum() / float(len(test))*100"
   ]
  },
  {
   "cell_type": "code",
   "execution_count": null,
   "metadata": {
    "collapsed": true
   },
   "outputs": [],
   "source": [
    "# Let's print accuracy\n",
    "\n",
    "print (\"Neighbors: %d, Accuracy: %2d%%\" %(n, round(accuracy, 2)))"
   ]
  }
 ],
 "metadata": {
  "kernelspec": {
   "display_name": "Python 3",
   "language": "python",
   "name": "python3"
  },
  "language_info": {
   "codemirror_mode": {
    "name": "ipython",
    "version": 3
   },
   "file_extension": ".py",
   "mimetype": "text/x-python",
   "name": "python",
   "nbconvert_exporter": "python",
   "pygments_lexer": "ipython3",
   "version": "3.6.1"
  }
 },
 "nbformat": 4,
 "nbformat_minor": 2
}
