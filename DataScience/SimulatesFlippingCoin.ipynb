{
 "cells": [
  {
   "cell_type": "code",
   "execution_count": 1,
   "metadata": {},
   "outputs": [
    {
     "data": {
      "text/plain": [
       "0.0"
      ]
     },
     "execution_count": 1,
     "metadata": {},
     "output_type": "execute_result"
    }
   ],
   "source": [
    "# Simulats Flippling a fair Coin\n",
    "\n",
    "import random\n",
    "\n",
    "def filp(numFlips):\n",
    "    \"\"\"Assumes numFlips a positive int\"\"\"\n",
    "    heads = 0\n",
    "    for i in range(numFlips):\n",
    "        if random.choice(('H', 'T')) == 'H':\n",
    "            heads +=1\n",
    "        return heads/numFlips\n",
    "    \n",
    "def flipSim(numFlipsPerTrial, numTrials):\n",
    "    \"\"\"Assumes numFlipsPerTrial and numTrials positive int\"\"\"\n",
    "    fracHeads = []\n",
    "    for i in range(numTrials):\n",
    "        fracHeads.append(filp(numFlipsPerTrial))\n",
    "    mean = sum(fracHeads)/len(fracHeads)\n",
    "    return mean\n",
    "\n",
    "flipSim(10, 1)\n"
   ]
  },
  {
   "cell_type": "code",
   "execution_count": 2,
   "metadata": {},
   "outputs": [
    {
     "data": {
      "image/png": "[encoded data removed]",
      "text/plain": [
       "<matplotlib.figure.Figure at 0x10d54fa20>"
      ]
     },
     "metadata": {},
     "output_type": "display_data"
    }
   ],
   "source": [
    "# Regresion to the Mean\n",
    "\n",
    "import random\n",
    "import pylab\n",
    "\n",
    "def flip(numFlips):\n",
    "    \"\"\"Assumes numFlips a positive int\"\"\"\n",
    "    heads = 0\n",
    "    for i in range(numFlips):\n",
    "        if random.choice(('H', 'T')) == 'H':\n",
    "            heads +=1\n",
    "        return heads/numFlips\n",
    "    \n",
    "def flipSim(numFlipsPerTrial, numTrials):\n",
    "    \"\"\"Assumes numFlipsPerTrial and numTrials positive int\"\"\"\n",
    "    fracHeads = []\n",
    "    for i in range(numTrials):\n",
    "        fracHeads.append(filp(numFlipsPerTrial))\n",
    "    mean = sum(fracHeads)/len(fracHeads)\n",
    "    return mean\n",
    "\n",
    "#flipSim(10, 1)\n",
    "\n",
    "def regressToMean(numFlips, numTrials):\n",
    "    # Get fraction of heads for each trial of numFlips\n",
    "    fracHeads = []\n",
    "    for t in range(numTrials):\n",
    "        fracHeads.append(flip(numFlips))\n",
    "    # Find trials with extreme results and for each the next trial\n",
    "    extremes, nextTrials = [], []\n",
    "    for i in range(len(fracHeads) - 1):\n",
    "        if fracHeads[i] < 0.33 or fracHeads[i] > 0.66:\n",
    "            extremes.append(fracHeads[i])\n",
    "            nextTrials.append(fracHeads[i+1])\n",
    "            \n",
    "    # Plot results\n",
    "    pylab.plot(range(len(extremes)), extremes, 'ko', label = 'Extreme')\n",
    "    pylab.plot(range(len(nextTrials)), nextTrials, 'k^', \n",
    "               label = 'Next Trials')\n",
    "    pylab.axhline(0.5)\n",
    "    pylab.ylim(0, 1)\n",
    "    pylab.xlim(-1, len(extremes) + 1)\n",
    "    pylab.xlabel('Extreme Example and Next Trial')\n",
    "    pylab.ylabel('Fraction Heads')\n",
    "    pylab.title('Regression to the Mean')\n",
    "    pylab.legend(loc = 'best')\n",
    "    #pylab.clf()\n",
    "    \n",
    "    \n",
    "regressToMean(15, 40)\n",
    "pylab.show()\n"
   ]
  },
  {
   "cell_type": "code",
   "execution_count": null,
   "metadata": {
    "collapsed": true
   },
   "outputs": [],
   "source": []
  }
 ],
 "metadata": {
  "kernelspec": {
   "display_name": "Python 3",
   "language": "python",
   "name": "python3"
  },
  "language_info": {
   "codemirror_mode": {
    "name": "ipython",
    "version": 3
   },
   "file_extension": ".py",
   "mimetype": "text/x-python",
   "name": "python",
   "nbconvert_exporter": "python",
   "pygments_lexer": "ipython3",
   "version": "3.6.1"
  }
 },
 "nbformat": 4,
 "nbformat_minor": 2
}
