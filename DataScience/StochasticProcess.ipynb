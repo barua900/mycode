{
 "cells": [
  {
   "cell_type": "code",
   "execution_count": 1,
   "metadata": {},
   "outputs": [
    {
     "name": "stdout",
     "output_type": "stream",
     "text": [
      "55411\n"
     ]
    }
   ],
   "source": [
    "# *** IMPLEMENTING A RANDOM PROCESS ***\n",
    "\n",
    "import random\n",
    "\n",
    "# non-deterministic rollDie\n",
    "def rollDie():\n",
    "    \"\"\"returns a random int between 1 and 6\"\"\"\n",
    "    return random.choice([1, 2, 3, 4, 5, 6])\n",
    "\n",
    "# testing\n",
    "def testRoll(n = 10):\n",
    "    result = ''\n",
    "    for i in range(n):\n",
    "        result = result + str(rollDie())\n",
    "    print(result)\n",
    "    \n",
    "testRoll(5)  # run it few times to see different output\n"
   ]
  },
  {
   "cell_type": "code",
   "execution_count": null,
   "metadata": {
    "collapsed": true
   },
   "outputs": [],
   "source": [
    "# Exercise - 1\n",
    "\n",
    "# How would you randomly generate an even number x, 0 <= x < 100? Fill out\n",
    "# the definition for the function genEven(). Please generate a uniform \n",
    "# distribution over the even numbers between 0 and 100 (not including 100).\n",
    "\n",
    "import random\n",
    "def genEven():\n",
    "    '''\n",
    "    Returns a random even number x, where 0 <= x < 100\n",
    "    '''\n",
    "    return random.choice(range(0, 100, 2))\n",
    "\n",
    "genEven() # Run it to see the output\n"
   ]
  },
  {
   "cell_type": "code",
   "execution_count": null,
   "metadata": {
    "collapsed": true
   },
   "outputs": [],
   "source": [
    "# Exercise - 2\n",
    "\n",
    "# Write a deterministic program, deterministicNumber, that returns an \n",
    "# even number between 9 and 21.\n",
    "\n",
    "def deterministicNumber():\n",
    "    '''\n",
    "    Deterministically generates and returns an even number between 9 and 21\n",
    "    '''\n",
    "    # Your code here\n",
    "    \n",
    "    \n",
    "# Possible solutions:\n",
    "\n",
    "#def deterministicNumber():\n",
    "    return 10 # or 12 or 14 or 16 or 18 or 20\n",
    "\n",
    "# or\n",
    "\n",
    "#def deterministicNumber():\n",
    "#    random.seed(0) # This will be discussed in the video \"Drunken Simulations\"\n",
    "#    return 2 * random.randint(5, 10)\n",
    "\n",
    "deterministicNumber() #Run it to see the output\n"
   ]
  },
  {
   "cell_type": "code",
   "execution_count": null,
   "metadata": {
    "collapsed": true
   },
   "outputs": [],
   "source": [
    "# Exercise - 3\n",
    "\n",
    "# Write a uniformly distributed stochastic program, stochasticNumber, \n",
    "# that returns an even number between 9 and 21.\n",
    "\n",
    "import random\n",
    "def stochasticNumber():\n",
    "    '''\n",
    "    Stochastically generates and returns a uniformly distributed even number between 9 and 21\n",
    "    '''\n",
    "    # Your code here\n",
    "    \n",
    "    \n",
    "    # Possible solutions:\n",
    "#def stochasticNumber():\n",
    "    return 2 * random.randint(5, 10)\n",
    "\n",
    "# or \n",
    "\n",
    "#def stochasticNumber():\n",
    "#    return random.randrange(10, 22, 2)\n",
    "\n",
    "# or, again, something like that.\n",
    "\n",
    "\n",
    "    \n",
    "stochasticNumber()"
   ]
  },
  {
   "cell_type": "code",
   "execution_count": null,
   "metadata": {
    "collapsed": true
   },
   "outputs": [],
   "source": [
    "# Exercise - 4\n",
    "\n",
    "# 1. Are the following two distributions equivalent? - Ans: YES\n",
    "\n",
    "# Explanation:\n",
    "#The random.random() distribution is uniform, so both dist1 and dist2 are \n",
    "#a uniform distribution over [-1.0, 1.0).\n",
    "\n",
    "import random\n",
    "def dist1():\n",
    "    return random.random() * 2 - 1\n",
    "\n",
    "def dist2():\n",
    "    if random.random() > 0.5:\n",
    "        return random.random()\n",
    "    else:\n",
    "        return random.random() - 1 \n",
    "\n",
    "dist2()"
   ]
  },
  {
   "cell_type": "code",
   "execution_count": null,
   "metadata": {
    "collapsed": true
   },
   "outputs": [],
   "source": [
    "# Exercise - 4\n",
    "# 2. Are the following two distributions equivalent?  Ans: YES\n",
    "\n",
    "# Explanation:\n",
    "# The random.random() distribution is uniform, and so is the \n",
    "# random.randrange() distribution, so both dist3 and dist4 are a discrete \n",
    "# uniform distribution over [0, 1, 2, 3, 4, 5, 6, 7, 8, 9].\n",
    "\n",
    "import random\n",
    "def dist3():\n",
    "    return int(random.random() * 10)\n",
    "\n",
    "def dist4():\n",
    "    return random.randrange(0, 10)\n",
    "\n",
    "dist4()"
   ]
  },
  {
   "cell_type": "code",
   "execution_count": null,
   "metadata": {
    "collapsed": true
   },
   "outputs": [],
   "source": [
    "# Exercise - 4\n",
    "# 3. Are the following two distributions equivalent? Ans: NO\n",
    "\n",
    "\n",
    "import random\n",
    "def dist5():\n",
    "    return int(random.random() * 10)\n",
    "\n",
    "def dist6():\n",
    "    return random.randint(0, 10)\n",
    "\n",
    "dist6()"
   ]
  }
 ],
 "metadata": {
  "kernelspec": {
   "display_name": "Python 3",
   "language": "python",
   "name": "python3"
  },
  "language_info": {
   "codemirror_mode": {
    "name": "ipython",
    "version": 3
   },
   "file_extension": ".py",
   "mimetype": "text/x-python",
   "name": "python",
   "nbconvert_exporter": "python",
   "pygments_lexer": "ipython3",
   "version": "3.6.1"
  }
 },
 "nbformat": 4,
 "nbformat_minor": 2
}
