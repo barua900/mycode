{
 "cells": [
  {
   "cell_type": "code",
   "execution_count": 1,
   "metadata": {},
   "outputs": [
    {
     "data": {
      "image/png": "[encoded data removed]",
      "text/plain": [
       "<matplotlib.figure.Figure at 0x113581a20>"
      ]
     },
     "metadata": {},
     "output_type": "display_data"
    }
   ],
   "source": [
    "#******* PRODUCING DISTANCE MATRIX **********\n",
    "\n",
    "import pylab\n",
    "\n",
    "# Minkowski Metric\n",
    "def minkowskiDist(X1, X2, p):\n",
    "    \"\"\"Assumes X1 and X2 are equal-length arrays of numbers\n",
    "       Returns Minkowski distance of order p between X1 and X2\"\"\"\n",
    "    dist = 0.0\n",
    "    for i in range(len(X1)):\n",
    "        dist += abs(X1[i] - X2[i])**p\n",
    "    return dist**(1/p)\n",
    "\n",
    "# Animal Class (defines the distance between two animals as Euclidean)\n",
    "\n",
    "class Animal(object):\n",
    "    def __init__(self, name, features):\n",
    "        \"\"\"Assumes name a string; features a list of numbers\"\"\"\n",
    "        self.name = name\n",
    "        self.features = pylab.array(features)\n",
    "        \n",
    "    def getName(self):\n",
    "        return self.name\n",
    "    \n",
    "    def getFeatures(self):\n",
    "        return self.features\n",
    "    \n",
    "    def distance(self, other):\n",
    "        \"\"\"Assumes other an Animal\n",
    "           Returns the Euclidean distance between fearure vectors\n",
    "           of self and other\"\"\"\n",
    "        return minkowskiDist(self.getFeatures(), other.getFeatures(), 2)\n",
    "    \n",
    "\n",
    "# Producing the Distance Matrix to Compare Animals\n",
    "\n",
    "def compareAnimals(animals, precision):\n",
    "    \"\"\"Assumes animals is a list of animals, precision an int >= 0\n",
    "       Builds a table of Euclidean distance between each animal\"\"\"\n",
    "    \n",
    "# Getting labels for columns and row\n",
    "    columnLabels = []\n",
    "    for a in animals:\n",
    "        columnLabels.append(a.getName())\n",
    "    rowLabels = columnLabels[:]\n",
    "    tableVals = []\n",
    "    # Getting distance between pairs of animals:\n",
    "    # For each Row\n",
    "    for a1 in animals:\n",
    "        row = []\n",
    "    # For each Coloum\n",
    "        for a2 in animals:\n",
    "            if a1 == a2:\n",
    "                row.append('--')\n",
    "            else:\n",
    "                distance = a1.distance(a2)\n",
    "                row.append(str(round(distance, precision)))\n",
    "        tableVals.append(row)\n",
    "        \n",
    "# Producing Table\n",
    "    table = pylab.table(rowLabels = rowLabels,\n",
    "                       colLabels = columnLabels,\n",
    "                       cellText = tableVals,\n",
    "                       cellLoc = 'center',\n",
    "                       loc = 'center',\n",
    "                       colWidths = [0.2]*len(animals))\n",
    "    table.auto_set_font_size(False)\n",
    "    table.set_fontsize(10)\n",
    "    table.scale(1, 2.5)\n",
    "    pylab.axis('off')\n",
    "    pylab.savefig('distances')\n",
    "    pylab.show()\n",
    "    \n",
    "    \n",
    "# Initializing and Calling\n",
    "rattlesnake = Animal('rattlesnake', [1, 1, 1, 1, 0])\n",
    "boa = Animal('boa\\nconstrictor', [0, 1, 0, 1, 0])\n",
    "dartFrog = Animal('dart frog', [1, 0, 1, 0, 4])\n",
    "animals = [rattlesnake, boa, dartFrog]\n",
    "alligator = Animal('alligator', [1, 1, 0, 1, 4])\n",
    "animals.append(alligator)\n",
    "compareAnimals(animals, 3)\n"
   ]
  },
  {
   "cell_type": "code",
   "execution_count": null,
   "metadata": {
    "collapsed": true
   },
   "outputs": [],
   "source": []
  }
 ],
 "metadata": {
  "kernelspec": {
   "display_name": "Python 3",
   "language": "python",
   "name": "python3"
  },
  "language_info": {
   "codemirror_mode": {
    "name": "ipython",
    "version": 3
   },
   "file_extension": ".py",
   "mimetype": "text/x-python",
   "name": "python",
   "nbconvert_exporter": "python",
   "pygments_lexer": "ipython3",
   "version": "3.6.1"
  }
 },
 "nbformat": 4,
 "nbformat_minor": 2
}
