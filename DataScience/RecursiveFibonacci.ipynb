{
 "cells": [
  {
   "cell_type": "code",
   "execution_count": 3,
   "metadata": {},
   "outputs": [
    {
     "data": {
      "text/plain": [
       "13"
      ]
     },
     "execution_count": 3,
     "metadata": {},
     "output_type": "execute_result"
    }
   ],
   "source": [
    "# What is Dynamic programming really? Let's look an example: ------>\n",
    "\n",
    "# *** Recursive Implementaion of Fibonacci ***\n",
    "#-------------------------------------------------\n",
    "\n",
    "def fib(n):\n",
    "    if n == 0 or n == 1:\n",
    "        return 1\n",
    "    else:\n",
    "        return fib(n - 1) + fib(n - 2)\n",
    "    \n",
    "#fib(6)\n",
    "\n",
    "\n",
    "# Here is a Memoization implementation\n",
    "#-------------------------------------\n",
    "\n",
    "# Using a Memo to compute Fibonnaci\n",
    "\n",
    "def fastFib(n, memo = {}):   # memo is an Empty dict\n",
    "    \"\"\"Assumes n is an int >= 0, memo used only by recursive calls\n",
    "       Returns Fibonnaci of n\"\"\"\n",
    "    \n",
    "    if n == 0 or n ==1:\n",
    "        return 1\n",
    "    try:\n",
    "        return memo[n]\n",
    "    except KeyError:     # if not there \n",
    "        result = fastFib(n -1, memo) + fastFib(n - 2, memo)\n",
    "        memo[n] = result\n",
    "        return result\n",
    "\n",
    "\n",
    "fastFib(6)"
   ]
  },
  {
   "cell_type": "code",
   "execution_count": null,
   "metadata": {
    "collapsed": true
   },
   "outputs": [],
   "source": []
  }
 ],
 "metadata": {
  "kernelspec": {
   "display_name": "Python 3",
   "language": "python",
   "name": "python3"
  },
  "language_info": {
   "codemirror_mode": {
    "name": "ipython",
    "version": 3
   },
   "file_extension": ".py",
   "mimetype": "text/x-python",
   "name": "python",
   "nbconvert_exporter": "python",
   "pygments_lexer": "ipython3",
   "version": "3.6.1"
  }
 },
 "nbformat": 4,
 "nbformat_minor": 2
}
