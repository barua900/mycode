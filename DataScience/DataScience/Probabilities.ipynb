{
 "cells": [
  {
   "cell_type": "code",
   "execution_count": 1,
   "metadata": {},
   "outputs": [
    {
     "name": "stdout",
     "output_type": "stream",
     "text": [
      "Actual Probability =  0.0001286\n",
      "Estimated Probability =  0.0\n"
     ]
    }
   ],
   "source": [
    "# SIMULATION\n",
    "# If you don't believe in Probability calcualtion, Use SIMULATION\n",
    "\n",
    "import random\n",
    "#random.seed(0) # generates the sequence of result but always same seqence.\n",
    "\n",
    "def rollDie():\n",
    "    \"\"\"returns a random int between 1 and 6\"\"\"\n",
    "    return random.choice([1, 2, 3, 4, 5, 6])\n",
    "\n",
    "def rollN(n = 10):\n",
    "    result = ''\n",
    "    for i in range(n):\n",
    "        result = result + str(rollDie())\n",
    "    print(result)\n",
    "    \n",
    "#rollN(10)\n",
    "\n",
    "# A Simulation\n",
    "\n",
    "def runSim(goal, numTrials):\n",
    "    total = 0\n",
    "    for i in range(numTrials):\n",
    "        result = ' '\n",
    "        for j in range(len(goal)):\n",
    "            result += str(rollDie())\n",
    "        if result == goal:\n",
    "            total += 1\n",
    "    print('Actual Probability = ', round(1/(6**len(goal)), 8))\n",
    "    estProbability = round(total/numTrials, 8)\n",
    "    print('Estimated Probability = ', round(estProbability, 8))\n",
    "    \n",
    "runSim('11111', 1000)\n",
    "\n",
    "\n",
    "# APPROXIMATING USING A SIMULATION\n",
    "\n",
    "def fracBoxCars(numTests):\n",
    "    numBoxCars = 0\n",
    "    for i in range(numTests):\n",
    "        if rollDie() == 2 and rollDie() == 2:\n",
    "            numBoxCars += 1\n",
    "    return numBoxCars/numTests\n",
    "\n",
    "#print('Frequency of double 6 = ', str(fracBoxCars(100000)*100) + '%')\n"
   ]
  },
  {
   "cell_type": "code",
   "execution_count": null,
   "metadata": {
    "collapsed": true
   },
   "outputs": [],
   "source": []
  }
 ],
 "metadata": {
  "kernelspec": {
   "display_name": "Python 3",
   "language": "python",
   "name": "python3"
  },
  "language_info": {
   "codemirror_mode": {
    "name": "ipython",
    "version": 3
   },
   "file_extension": ".py",
   "mimetype": "text/x-python",
   "name": "python",
   "nbconvert_exporter": "python",
   "pygments_lexer": "ipython3",
   "version": "3.6.1"
  }
 },
 "nbformat": 4,
 "nbformat_minor": 2
}
