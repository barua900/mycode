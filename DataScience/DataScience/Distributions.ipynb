{
 "cells": [
  {
   "cell_type": "code",
   "execution_count": 1,
   "metadata": {},
   "outputs": [
    {
     "data": {
      "image/png": "[encoded data removed]",
      "text/plain": [
       "<matplotlib.figure.Figure at 0x1115f1ba8>"
      ]
     },
     "metadata": {},
     "output_type": "display_data"
    },
    {
     "name": "stdout",
     "output_type": "stream",
     "text": [
      "For mu= 6 and sigma= 5\n",
      "Fraction within 1 std = 0.6827\n",
      "Fraction within 1.96 std = 0.95\n",
      "Fraction within 3 std = 0.9973\n",
      "For mu= 3 and sigma= 7\n",
      "Fraction within 1 std = 0.6827\n",
      "Fraction within 1.96 std = 0.95\n",
      "Fraction within 3 std = 0.9973\n",
      "For mu= 4 and sigma= 9\n",
      "Fraction within 1 std = 0.6827\n",
      "Fraction within 1.96 std = 0.95\n",
      "Fraction within 3 std = 0.9973\n"
     ]
    }
   ],
   "source": [
    "# Generating Normal Distribution\n",
    "\n",
    "import pylab\n",
    "import random\n",
    "\n",
    "dist = []\n",
    "for i in range(100000):\n",
    "    dist.append(random.gauss(0, 30))\n",
    "pylab.hist(dist, 30)\n",
    "pylab.show()\n",
    "\n",
    "\n",
    "# Checking Empirical Rule\n",
    "\n",
    "import scipy.integrate\n",
    "\n",
    "def gaussian(x, mu, sigma):\n",
    "    factor1 = (1.0/(sigma*((2*pylab.pi) **0.5)))\n",
    "    factor2 = pylab.e**-(((x - mu)**2)/(2*sigma**2))\n",
    "    return factor1*factor2\n",
    "\n",
    "def checkEmpirical(numTrials):\n",
    "    for t in range(numTrials):\n",
    "        mu = random.randint(-10, 10)\n",
    "        sigma = random.randint(1, 10)\n",
    "        print('For mu=', mu, 'and sigma=', sigma)\n",
    "        \n",
    "        for numStd in (1, 1.96, 3):\n",
    "            area = scipy.integrate.quad(gaussian,\n",
    "                                       mu - numStd*sigma,\n",
    "                                       mu + numStd*sigma,\n",
    "                                       (mu, sigma))[0]\n",
    "            print('Fraction within', numStd, 'std =', round(area, 4))\n",
    "            \n",
    "checkEmpirical(3)\n",
    "\n"
   ]
  },
  {
   "cell_type": "code",
   "execution_count": null,
   "metadata": {
    "collapsed": true
   },
   "outputs": [],
   "source": []
  }
 ],
 "metadata": {
  "kernelspec": {
   "display_name": "Python 3",
   "language": "python",
   "name": "python3"
  },
  "language_info": {
   "codemirror_mode": {
    "name": "ipython",
    "version": 3
   },
   "file_extension": ".py",
   "mimetype": "text/x-python",
   "name": "python",
   "nbconvert_exporter": "python",
   "pygments_lexer": "ipython3",
   "version": "3.6.1"
  }
 },
 "nbformat": 4,
 "nbformat_minor": 2
}
