{
 "cells": [
  {
   "cell_type": "code",
   "execution_count": 2,
   "metadata": {},
   "outputs": [
    {
     "data": {
      "image/png": "[encoded data removed]",
      "text/plain": [
       "<matplotlib.figure.Figure at 0x10cd21470>"
      ]
     },
     "metadata": {},
     "output_type": "display_data"
    }
   ],
   "source": [
    "# ******* Here generating set of list samples of i **********\n",
    "\n",
    "import pylab as plt\n",
    "\n",
    "mySamples = []\n",
    "myLinear = []\n",
    "myQuadratic = []\n",
    "myCubic = []\n",
    "myExponential = []\n",
    "\n",
    "for i in range(0, 30):\n",
    "    mySamples.append(i)\n",
    "    myLinear.append(i)\n",
    "    myQuadratic.append(i**2)\n",
    "    myCubic.append(i**3)\n",
    "    myExponential.append(1.5 ** i)   # selected 1.5 to keep display \n",
    "                              # visible, value for order of growth example\n",
    "                               # would be 2(can use any value)\n",
    "            \n",
    "plt.plot(mySamples, myLinear)\n",
    "plt.show()\n"
   ]
  },
  {
   "cell_type": "code",
   "execution_count": null,
   "metadata": {
    "collapsed": true
   },
   "outputs": [],
   "source": []
  }
 ],
 "metadata": {
  "kernelspec": {
   "display_name": "Python 3",
   "language": "python",
   "name": "python3"
  },
  "language_info": {
   "codemirror_mode": {
    "name": "ipython",
    "version": 3
   },
   "file_extension": ".py",
   "mimetype": "text/x-python",
   "name": "python",
   "nbconvert_exporter": "python",
   "pygments_lexer": "ipython3",
   "version": "3.6.1"
  }
 },
 "nbformat": 4,
 "nbformat_minor": 2
}
