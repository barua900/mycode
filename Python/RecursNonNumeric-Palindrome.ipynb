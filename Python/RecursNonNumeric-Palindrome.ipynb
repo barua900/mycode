{
 "cells": [
  {
   "cell_type": "code",
   "execution_count": 1,
   "metadata": {},
   "outputs": [
    {
     "data": {
      "text/plain": [
       "True"
      ]
     },
     "execution_count": 1,
     "metadata": {},
     "output_type": "execute_result"
    }
   ],
   "source": [
    "# ************* RECURSION ON NON-NUMERICS *****************\n",
    "\n",
    "#- How to check if a String of characters is a Palindrome, i.e., reads the\n",
    "#  same forwards and backwords\n",
    "\n",
    "# - \"Able was I era I saw Elba\" - attributed to Napoleon\n",
    "# - \"Are we not drawn onward, we few, drawn onward to new era?\" - Anne Michales\n",
    "\n",
    "# ****** Here is the code:- *********\n",
    "\n",
    "def isPalindrome(s):\n",
    "    \"\"\"Assume s is a str\n",
    "    Returns True if letters in s form a palindrome; False otherwise.\n",
    "    Non-letters and capitalization are ingnored.\"\"\"\n",
    "    \n",
    "    def toChars(s):\n",
    "        s = s.lower()\n",
    "        letters = ''\n",
    "        for c in s:\n",
    "            if c in 'abcdefghijklmnopqrstuvwxyz':\n",
    "                letters = letters + c\n",
    "        return letters\n",
    "        \n",
    "    def isPal(s):\n",
    "        if len(s) <= 1:\n",
    "            return True\n",
    "        else:\n",
    "            letters = s[0] == s[-1] and isPal(s[1:-1])\n",
    "            return letters\n",
    "        \n",
    "    return isPal(toChars(s)) \n",
    "    \n",
    "  \n",
    "isPalindrome('ronnieEinnor')\n",
    "\n",
    "#print(\" \")\n",
    "#print('Is eve a palindrome')\n",
    "#print(isPalindrome('Able was I, ere I saw Elba'))\n",
    "\n",
    "#def testIsPalindrome():\n",
    "#    print('Try dogGod')\n",
    "#    print(isPalindrome('dogGod'))\n",
    "#    print('Try doGood')\n",
    "#    print(isPalindrome('doGood'))\n",
    "    "
   ]
  },
  {
   "cell_type": "code",
   "execution_count": null,
   "metadata": {
    "collapsed": true
   },
   "outputs": [],
   "source": []
  }
 ],
 "metadata": {
  "kernelspec": {
   "display_name": "Python 3",
   "language": "python",
   "name": "python3"
  },
  "language_info": {
   "codemirror_mode": {
    "name": "ipython",
    "version": 3
   },
   "file_extension": ".py",
   "mimetype": "text/x-python",
   "name": "python",
   "nbconvert_exporter": "python",
   "pygments_lexer": "ipython3",
   "version": "3.6.1"
  }
 },
 "nbformat": 4,
 "nbformat_minor": 2
}
